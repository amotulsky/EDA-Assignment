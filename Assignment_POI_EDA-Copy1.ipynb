{
 "cells": [
  {
   "cell_type": "markdown",
   "metadata": {
    "id": "Glndh5aA_ilX"
   },
   "source": [
    "# EDA, Preprocessing"
   ]
  },
  {
   "cell_type": "markdown",
   "metadata": {
    "id": "4TbGJUGd_il5"
   },
   "source": [
    "Craigslist is the world's largest collection of used vehicles for sale, yet it's very difficult to collect all of them in the same place. I built a scraper for a school project and expanded upon it later to create this dataset which includes every used vehicle entry within the United States on Craigslist\n",
    "\n",
    "Source: https://www.kaggle.com/austinreese/craigslist-carstrucks-data"
   ]
  },
  {
   "cell_type": "markdown",
   "metadata": {
    "id": "i0T0lT-Y_il6"
   },
   "source": [
    "## Data Dictionary\n",
    "\n",
    "\n",
    "**id** - id for the listing\n",
    "\n",
    "**price** - price for the used car\n",
    "\n",
    "**year** - entry year\n",
    "\n",
    "**manufacturer** - manufacturer of the vehicle\n",
    "\n",
    "**model** - model of vehicle\n",
    "\n",
    "**condition** - condition of vehicle\n",
    "\n",
    "**cylinders** - number of cylinders\n",
    "\n",
    "**fuel** - fuel type\n",
    "\n",
    "**odometer** - miles traveled by vehicle\n",
    "\n",
    "**title_status** - title status of vehicle\n",
    "\n",
    "**transmission** - transmission of vehicle (automatic, manual, ...)\n",
    "\n",
    "**size** - size of vehicle \n",
    "\n",
    "**state** - state of listing"
   ]
  },
  {
   "cell_type": "markdown",
   "metadata": {
    "id": "Iuzke6gI_imq"
   },
   "source": [
    "## Questions:\n",
    "\n",
    "### 1. Read the data file and present summary statistics, datatype per column and NA status for each column. "
   ]
  },
  {
   "cell_type": "code",
   "execution_count": 150,
   "metadata": {
    "ExecuteTime": {
     "end_time": "2021-04-10T16:10:47.402659Z",
     "start_time": "2021-04-10T16:10:47.399890Z"
    },
    "id": "XpLfq7f4_imr",
    "scrolled": true
   },
   "outputs": [
    {
     "name": "stdout",
     "output_type": "stream",
     "text": [
      "<class 'pandas.core.frame.DataFrame'>\n",
      "RangeIndex: 10000 entries, 0 to 9999\n",
      "Data columns (total 26 columns):\n",
      " #   Column        Non-Null Count  Dtype  \n",
      "---  ------        --------------  -----  \n",
      " 0   id            10000 non-null  int64  \n",
      " 1   url           10000 non-null  object \n",
      " 2   region        10000 non-null  object \n",
      " 3   region_url    10000 non-null  object \n",
      " 4   price         10000 non-null  int64  \n",
      " 5   year          9887 non-null   float64\n",
      " 6   manufacturer  9517 non-null   object \n",
      " 7   model         9871 non-null   object \n",
      " 8   condition     5347 non-null   object \n",
      " 9   cylinders     6713 non-null   object \n",
      " 10  fuel          9878 non-null   object \n",
      " 11  odometer      9942 non-null   float64\n",
      " 12  title_status  9753 non-null   object \n",
      " 13  transmission  9917 non-null   object \n",
      " 14  VIN           6881 non-null   object \n",
      " 15  drive         7101 non-null   object \n",
      " 16  size          2600 non-null   object \n",
      " 17  type          8149 non-null   object \n",
      " 18  paint_color   7984 non-null   object \n",
      " 19  image_url     9973 non-null   object \n",
      " 20  description   9973 non-null   object \n",
      " 21  county        0 non-null      float64\n",
      " 22  state         10000 non-null  object \n",
      " 23  lat           9928 non-null   float64\n",
      " 24  long          9928 non-null   float64\n",
      " 25  posting_date  9973 non-null   object \n",
      "dtypes: float64(5), int64(2), object(19)\n",
      "memory usage: 2.0+ MB\n"
     ]
    },
    {
     "data": {
      "text/html": [
       "<div>\n",
       "<style scoped>\n",
       "    .dataframe tbody tr th:only-of-type {\n",
       "        vertical-align: middle;\n",
       "    }\n",
       "\n",
       "    .dataframe tbody tr th {\n",
       "        vertical-align: top;\n",
       "    }\n",
       "\n",
       "    .dataframe thead th {\n",
       "        text-align: right;\n",
       "    }\n",
       "</style>\n",
       "<table border=\"1\" class=\"dataframe\">\n",
       "  <thead>\n",
       "    <tr style=\"text-align: right;\">\n",
       "      <th></th>\n",
       "      <th>id</th>\n",
       "      <th>price</th>\n",
       "      <th>year</th>\n",
       "      <th>odometer</th>\n",
       "      <th>county</th>\n",
       "      <th>lat</th>\n",
       "      <th>long</th>\n",
       "    </tr>\n",
       "  </thead>\n",
       "  <tbody>\n",
       "    <tr>\n",
       "      <th>count</th>\n",
       "      <td>1.000000e+04</td>\n",
       "      <td>1.000000e+04</td>\n",
       "      <td>9887.000000</td>\n",
       "      <td>9.942000e+03</td>\n",
       "      <td>0.0</td>\n",
       "      <td>9928.000000</td>\n",
       "      <td>9928.000000</td>\n",
       "    </tr>\n",
       "    <tr>\n",
       "      <th>mean</th>\n",
       "      <td>7.309865e+09</td>\n",
       "      <td>1.303030e+05</td>\n",
       "      <td>2011.938910</td>\n",
       "      <td>1.059445e+05</td>\n",
       "      <td>NaN</td>\n",
       "      <td>43.332321</td>\n",
       "      <td>-111.367014</td>\n",
       "    </tr>\n",
       "    <tr>\n",
       "      <th>std</th>\n",
       "      <td>6.548738e+06</td>\n",
       "      <td>9.926715e+06</td>\n",
       "      <td>9.978193</td>\n",
       "      <td>4.597180e+05</td>\n",
       "      <td>NaN</td>\n",
       "      <td>13.354179</td>\n",
       "      <td>29.041804</td>\n",
       "    </tr>\n",
       "    <tr>\n",
       "      <th>min</th>\n",
       "      <td>7.208550e+09</td>\n",
       "      <td>0.000000e+00</td>\n",
       "      <td>1903.000000</td>\n",
       "      <td>0.000000e+00</td>\n",
       "      <td>NaN</td>\n",
       "      <td>-81.838232</td>\n",
       "      <td>-158.599600</td>\n",
       "    </tr>\n",
       "    <tr>\n",
       "      <th>25%</th>\n",
       "      <td>7.306471e+09</td>\n",
       "      <td>9.995000e+03</td>\n",
       "      <td>2010.000000</td>\n",
       "      <td>2.771575e+04</td>\n",
       "      <td>NaN</td>\n",
       "      <td>33.465300</td>\n",
       "      <td>-149.847206</td>\n",
       "    </tr>\n",
       "    <tr>\n",
       "      <th>50%</th>\n",
       "      <td>7.310599e+09</td>\n",
       "      <td>2.000000e+04</td>\n",
       "      <td>2015.000000</td>\n",
       "      <td>6.750000e+04</td>\n",
       "      <td>NaN</td>\n",
       "      <td>34.768443</td>\n",
       "      <td>-88.105874</td>\n",
       "    </tr>\n",
       "    <tr>\n",
       "      <th>75%</th>\n",
       "      <td>7.314113e+09</td>\n",
       "      <td>2.999500e+04</td>\n",
       "      <td>2018.000000</td>\n",
       "      <td>1.234560e+05</td>\n",
       "      <td>NaN</td>\n",
       "      <td>61.161670</td>\n",
       "      <td>-86.653907</td>\n",
       "    </tr>\n",
       "    <tr>\n",
       "      <th>max</th>\n",
       "      <td>7.316894e+09</td>\n",
       "      <td>9.876543e+08</td>\n",
       "      <td>2022.000000</td>\n",
       "      <td>1.000000e+07</td>\n",
       "      <td>NaN</td>\n",
       "      <td>64.993698</td>\n",
       "      <td>173.885502</td>\n",
       "    </tr>\n",
       "  </tbody>\n",
       "</table>\n",
       "</div>"
      ],
      "text/plain": [
       "                 id         price         year      odometer  county  \\\n",
       "count  1.000000e+04  1.000000e+04  9887.000000  9.942000e+03     0.0   \n",
       "mean   7.309865e+09  1.303030e+05  2011.938910  1.059445e+05     NaN   \n",
       "std    6.548738e+06  9.926715e+06     9.978193  4.597180e+05     NaN   \n",
       "min    7.208550e+09  0.000000e+00  1903.000000  0.000000e+00     NaN   \n",
       "25%    7.306471e+09  9.995000e+03  2010.000000  2.771575e+04     NaN   \n",
       "50%    7.310599e+09  2.000000e+04  2015.000000  6.750000e+04     NaN   \n",
       "75%    7.314113e+09  2.999500e+04  2018.000000  1.234560e+05     NaN   \n",
       "max    7.316894e+09  9.876543e+08  2022.000000  1.000000e+07     NaN   \n",
       "\n",
       "               lat         long  \n",
       "count  9928.000000  9928.000000  \n",
       "mean     43.332321  -111.367014  \n",
       "std      13.354179    29.041804  \n",
       "min     -81.838232  -158.599600  \n",
       "25%      33.465300  -149.847206  \n",
       "50%      34.768443   -88.105874  \n",
       "75%      61.161670   -86.653907  \n",
       "max      64.993698   173.885502  "
      ]
     },
     "execution_count": 150,
     "metadata": {},
     "output_type": "execute_result"
    }
   ],
   "source": [
    "# the datasets (import.chec. whatever are above) #\n",
    "import pandas as pd\n",
    "import matplotlib.pyplot as plt\n",
    "import numpy as np\n",
    "\n",
    "FILE = \"/Users/axel/Desktop/venv/vehicles.csv\"\n",
    "\n",
    "plt.rcParams[\"figure.figsize\"] = (13, 7)\n",
    "\n",
    "data = pd.read_csv(FILE, nrows=10000)\n",
    "\n",
    "data.tail()\n",
    "\n",
    "data.info()\n",
    "    # datatype, non-null count per column\n",
    "    \n",
    "data.describe()\n",
    "    # for each int/double datatype, returning mean, SD, min value, 25% percentile, etc..."
   ]
  },
  {
   "cell_type": "markdown",
   "metadata": {
    "id": "tLrqyzgC_im-"
   },
   "source": [
    "### 2. Perform data integrity checks as needed "
   ]
  },
  {
   "cell_type": "code",
   "execution_count": 151,
   "metadata": {
    "ExecuteTime": {
     "end_time": "2021-04-10T16:11:01.359485Z",
     "start_time": "2021-04-10T16:11:01.357415Z"
    },
    "id": "sNLyJZMHnJLC"
   },
   "outputs": [
    {
     "data": {
      "text/plain": [
       "0"
      ]
     },
     "execution_count": 151,
     "metadata": {},
     "output_type": "execute_result"
    }
   ],
   "source": [
    "data.duplicated().sum()\n",
    "    #checking for duplicates.."
   ]
  },
  {
   "cell_type": "markdown",
   "metadata": {
    "id": "sxvh-O-v_inU"
   },
   "source": [
    "3. Define all the Nominal, Ordinal, and numerical features in a markdown cell. \n",
    "\n",
    "  \n",
    "**If all of the values in a column are unique / almost unique, include them under the \"Index\" category**"
   ]
  },
  {
   "cell_type": "code",
   "execution_count": null,
   "metadata": {
    "ExecuteTime": {
     "end_time": "2021-04-10T16:11:16.405753Z",
     "start_time": "2021-04-10T16:11:16.403745Z"
    },
    "id": "SxITRdgWnJLC"
   },
   "outputs": [],
   "source": [
    "# nominal = naming[ed] things\n",
    "# ordinal = describe named qualities of things\n",
    "        # unsure"
   ]
  },
  {
   "cell_type": "markdown",
   "metadata": {
    "id": "SsZEQK_a_ioM"
   },
   "source": [
    "\n",
    "### 4. Take care of NA values (if any). Specify the business logic behind your choice.\n",
    "\n",
    "**Hint:** Look at the rows as well"
   ]
  },
  {
   "cell_type": "code",
   "execution_count": 161,
   "metadata": {
    "ExecuteTime": {
     "end_time": "2021-04-10T16:12:05.166777Z",
     "start_time": "2021-04-10T16:12:05.164666Z"
    },
    "id": "QNGwoTOtnJLE"
   },
   "outputs": [
    {
     "ename": "AttributeError",
     "evalue": "'NoneType' object has no attribute 'dropna'",
     "output_type": "error",
     "traceback": [
      "\u001b[0;31m---------------------------------------------------------------------------\u001b[0m",
      "\u001b[0;31mAttributeError\u001b[0m                            Traceback (most recent call last)",
      "Input \u001b[0;32mIn [161]\u001b[0m, in \u001b[0;36m<cell line: 3>\u001b[0;34m()\u001b[0m\n\u001b[1;32m      1\u001b[0m \u001b[38;5;66;03m# data.isnull().sum()\u001b[39;00m\n\u001b[0;32m----> 3\u001b[0m data \u001b[38;5;241m=\u001b[39m \u001b[43mdata\u001b[49m\u001b[38;5;241;43m.\u001b[39;49m\u001b[43mdropna\u001b[49m(subset\u001b[38;5;241m=\u001b[39m[\u001b[38;5;124m'\u001b[39m\u001b[38;5;124msize\u001b[39m\u001b[38;5;124m'\u001b[39m, \u001b[38;5;124m'\u001b[39m\u001b[38;5;124mcounty\u001b[39m\u001b[38;5;124m'\u001b[39m, \u001b[38;5;124m'\u001b[39m\u001b[38;5;124mid\u001b[39m\u001b[38;5;124m'\u001b[39m, \u001b[38;5;124m'\u001b[39m\u001b[38;5;124mVIN\u001b[39m\u001b[38;5;124m'\u001b[39m, \u001b[38;5;124m'\u001b[39m\u001b[38;5;124mlat\u001b[39m\u001b[38;5;124m'\u001b[39m, \u001b[38;5;124m'\u001b[39m\u001b[38;5;124mlong\u001b[39m\u001b[38;5;124m'\u001b[39m, \u001b[38;5;124m'\u001b[39m\u001b[38;5;124murl\u001b[39m\u001b[38;5;124m'\u001b[39m, \u001b[38;5;124m'\u001b[39m\u001b[38;5;124mregion_url\u001b[39m\u001b[38;5;124m'\u001b[39m], axis\u001b[38;5;241m=\u001b[39m\u001b[38;5;241m1\u001b[39m, inplace\u001b[38;5;241m=\u001b[39m \u001b[38;5;28;01mTrue\u001b[39;00m)\n\u001b[1;32m      4\u001b[0m     \u001b[38;5;66;03m#dropping these columns because they contain too many nulls & are least  relevant to model\u001b[39;00m\n\u001b[1;32m      5\u001b[0m \n\u001b[1;32m      6\u001b[0m         \n\u001b[1;32m      7\u001b[0m    \u001b[38;5;66;03m# the remaining columns (year, manufacturer, model, etc.) with null values replaced with \"Unknown/0\" bc relevant to model\u001b[39;00m\n\u001b[1;32m      8\u001b[0m         \u001b[38;5;66;03m# nonsensical to replace with mean, median, subsequent column/row value\u001b[39;00m\n\u001b[1;32m      9\u001b[0m data[\u001b[38;5;124m\"\u001b[39m\u001b[38;5;124myear\u001b[39m\u001b[38;5;124m\"\u001b[39m]\u001b[38;5;241m.\u001b[39mfillna(\u001b[38;5;124m\"\u001b[39m\u001b[38;5;124mUnkown\u001b[39m\u001b[38;5;124m\"\u001b[39m, inplace \u001b[38;5;241m=\u001b[39m \u001b[38;5;28;01mTrue\u001b[39;00m)\n",
      "\u001b[0;31mAttributeError\u001b[0m: 'NoneType' object has no attribute 'dropna'"
     ]
    }
   ],
   "source": [
    "# data.isnull().sum()\n",
    "\n",
    "data = data.dropna(subset=['size', 'county', 'id', 'VIN', 'lat', 'long', 'url', 'region_url'], axis=1, inplace= True)\n",
    "    #dropping these columns because they contain too many nulls & are least  relevant to model\n",
    "\n",
    "        \n",
    "   # the remaining columns (year, manufacturer, model, etc.) with null values replaced with \"Unknown/0\" bc relevant to model\n",
    "        # nonsensical to replace with mean, median, subsequent column/row value\n",
    "data[\"year\"].fillna(\"Unkown\", inplace = True)\n",
    "data[\"manufacturer\"].fillna(\"Unknown\", inplace = True)\n",
    "data[\"model\"].fillna(\"Unknown\", inplace = True)\n",
    "data[\"condition\"].fillna(\"Unkown\", inplace = True)\n",
    "data[\"cylinders\"].fillna(\"Unkown\", inplace = True)\n",
    "data[\"fuel\"].fillna(\"Unkown\", inplace = True)\n",
    "data[\"odometer\"].fillna(\"Unkown\", inplace = True)\n",
    "data[\"title_status\"].fillna(\"Unkown\", inplace = True)\n",
    "data[\"transmission\"].fillna(\"Unkown\", inplace = True)\n",
    "data[\"drive\"].fillna(\"Unkown\", inplace = True)\n",
    "data[\"type\"].fillna(\"Unkown\", inplace = True)\n",
    "data[\"paint_color\"].fillna(\"Unkown\", inplace = True)\n",
    "data[\"image_url\"].fillna(\"Unkown\", inplace = True)\n",
    "data[\"posting_date\"].fillna(\"Unkown\", inplace = True)\n",
    "data[\"paint_color\"].fillna(\"Unkown\", inplace = True)\n",
    "data[\"description\"].fillna(\"Unkown\", inplace = True)\n",
    "\n",
    "data.isnull().sum()\n",
    "\n",
    "    #dropping all rows containing more than 1 null value\n",
    "data = data[data.isnull().sum(axis=1) < 1]\n"
   ]
  },
  {
   "cell_type": "markdown",
   "metadata": {
    "id": "kCj67LiQ_ipH"
   },
   "source": [
    "### 5. Take care of outliers (if any). Specify the business logic behind your choice."
   ]
  },
  {
   "cell_type": "code",
   "execution_count": 148,
   "metadata": {
    "ExecuteTime": {
     "end_time": "2021-04-10T16:12:13.819670Z",
     "start_time": "2021-04-10T16:12:13.817208Z"
    },
    "id": "xo_zYZmnnJLE"
   },
   "outputs": [
    {
     "data": {
      "text/html": [
       "<div>\n",
       "<style scoped>\n",
       "    .dataframe tbody tr th:only-of-type {\n",
       "        vertical-align: middle;\n",
       "    }\n",
       "\n",
       "    .dataframe tbody tr th {\n",
       "        vertical-align: top;\n",
       "    }\n",
       "\n",
       "    .dataframe thead th {\n",
       "        text-align: right;\n",
       "    }\n",
       "</style>\n",
       "<table border=\"1\" class=\"dataframe\">\n",
       "  <thead>\n",
       "    <tr style=\"text-align: right;\">\n",
       "      <th></th>\n",
       "      <th>id</th>\n",
       "      <th>price</th>\n",
       "      <th>year</th>\n",
       "      <th>odometer</th>\n",
       "      <th>county</th>\n",
       "      <th>lat</th>\n",
       "      <th>long</th>\n",
       "    </tr>\n",
       "  </thead>\n",
       "  <tbody>\n",
       "    <tr>\n",
       "      <th>count</th>\n",
       "      <td>0.0</td>\n",
       "      <td>0.0</td>\n",
       "      <td>0.0</td>\n",
       "      <td>0.0</td>\n",
       "      <td>0.0</td>\n",
       "      <td>0.0</td>\n",
       "      <td>0.0</td>\n",
       "    </tr>\n",
       "    <tr>\n",
       "      <th>mean</th>\n",
       "      <td>NaN</td>\n",
       "      <td>NaN</td>\n",
       "      <td>NaN</td>\n",
       "      <td>NaN</td>\n",
       "      <td>NaN</td>\n",
       "      <td>NaN</td>\n",
       "      <td>NaN</td>\n",
       "    </tr>\n",
       "    <tr>\n",
       "      <th>std</th>\n",
       "      <td>NaN</td>\n",
       "      <td>NaN</td>\n",
       "      <td>NaN</td>\n",
       "      <td>NaN</td>\n",
       "      <td>NaN</td>\n",
       "      <td>NaN</td>\n",
       "      <td>NaN</td>\n",
       "    </tr>\n",
       "    <tr>\n",
       "      <th>min</th>\n",
       "      <td>NaN</td>\n",
       "      <td>NaN</td>\n",
       "      <td>NaN</td>\n",
       "      <td>NaN</td>\n",
       "      <td>NaN</td>\n",
       "      <td>NaN</td>\n",
       "      <td>NaN</td>\n",
       "    </tr>\n",
       "    <tr>\n",
       "      <th>25%</th>\n",
       "      <td>NaN</td>\n",
       "      <td>NaN</td>\n",
       "      <td>NaN</td>\n",
       "      <td>NaN</td>\n",
       "      <td>NaN</td>\n",
       "      <td>NaN</td>\n",
       "      <td>NaN</td>\n",
       "    </tr>\n",
       "    <tr>\n",
       "      <th>50%</th>\n",
       "      <td>NaN</td>\n",
       "      <td>NaN</td>\n",
       "      <td>NaN</td>\n",
       "      <td>NaN</td>\n",
       "      <td>NaN</td>\n",
       "      <td>NaN</td>\n",
       "      <td>NaN</td>\n",
       "    </tr>\n",
       "    <tr>\n",
       "      <th>75%</th>\n",
       "      <td>NaN</td>\n",
       "      <td>NaN</td>\n",
       "      <td>NaN</td>\n",
       "      <td>NaN</td>\n",
       "      <td>NaN</td>\n",
       "      <td>NaN</td>\n",
       "      <td>NaN</td>\n",
       "    </tr>\n",
       "    <tr>\n",
       "      <th>max</th>\n",
       "      <td>NaN</td>\n",
       "      <td>NaN</td>\n",
       "      <td>NaN</td>\n",
       "      <td>NaN</td>\n",
       "      <td>NaN</td>\n",
       "      <td>NaN</td>\n",
       "      <td>NaN</td>\n",
       "    </tr>\n",
       "  </tbody>\n",
       "</table>\n",
       "</div>"
      ],
      "text/plain": [
       "        id  price  year  odometer  county  lat  long\n",
       "count  0.0    0.0   0.0       0.0     0.0  0.0   0.0\n",
       "mean   NaN    NaN   NaN       NaN     NaN  NaN   NaN\n",
       "std    NaN    NaN   NaN       NaN     NaN  NaN   NaN\n",
       "min    NaN    NaN   NaN       NaN     NaN  NaN   NaN\n",
       "25%    NaN    NaN   NaN       NaN     NaN  NaN   NaN\n",
       "50%    NaN    NaN   NaN       NaN     NaN  NaN   NaN\n",
       "75%    NaN    NaN   NaN       NaN     NaN  NaN   NaN\n",
       "max    NaN    NaN   NaN       NaN     NaN  NaN   NaN"
      ]
     },
     "execution_count": 148,
     "metadata": {},
     "output_type": "execute_result"
    }
   ],
   "source": [
    "data.describe()\n",
    "\n",
    "\n",
    "\n",
    "def remove_outlier_IQR(data):\n",
    "    Q1 = data.quantile(0.25)\n",
    "    Q3 = data.quantile(0.75)\n",
    "    IQR = Q3 - Q1\n",
    "    data_final=data[~((data<(Q1-1.5*IQR)) | (data>(Q3+1.5*IQR)))]\n",
    "    return data_final\n",
    "        #created a remove outliers function using the interquartile range\n",
    "\n",
    "\n",
    "data_outlier_removed=remove_outlier_IQR(data.year)\n",
    "data_outlier_removed=remove_outlier_IQR(data.id)\n",
    "data_outlier_removed=remove_outlier_IQR(data.price)\n",
    "data_outlier_removed=remove_outlier_IQR(data.odometer)\n",
    "data_outlier_removed=remove_outlier_IQR(data.lat)\n",
    "data_outlier_removed=remove_outlier_IQR(data.long)\n",
    "        # function repeats for each numerical value (year, price, id, etc..)\n",
    "data_outlier_removed=pd.DataFrame(data_outlier_removed)\n",
    "ind_diff=data.index.difference(data_outlier_removed.index)\n",
    "\n",
    "for i in range(0, len(ind_diff),1):\n",
    "    data_final=data.drop([ind_diff[i]])\n",
    "    data=data_final"
   ]
  },
  {
   "cell_type": "markdown",
   "metadata": {
    "id": "ayGW7vqN_irJ"
   },
   "source": [
    "### 6. Generate a correlation matrix and plot a heat map of it. What can you say about the correlations? \n",
    "\n"
   ]
  },
  {
   "cell_type": "code",
   "execution_count": 164,
   "metadata": {
    "ExecuteTime": {
     "end_time": "2021-04-10T16:13:00.923723Z",
     "start_time": "2021-04-10T16:13:00.921082Z"
    },
    "id": "z6HM38UWnJLG"
   },
   "outputs": [
    {
     "ename": "AttributeError",
     "evalue": "'NoneType' object has no attribute 'corrM'",
     "output_type": "error",
     "traceback": [
      "\u001b[0;31m---------------------------------------------------------------------------\u001b[0m",
      "\u001b[0;31mAttributeError\u001b[0m                            Traceback (most recent call last)",
      "Input \u001b[0;32mIn [164]\u001b[0m, in \u001b[0;36m<cell line: 7>\u001b[0;34m()\u001b[0m\n\u001b[1;32m      4\u001b[0m corrM \u001b[38;5;241m=\u001b[39m df\u001b[38;5;241m.\u001b[39mcorr()\n\u001b[1;32m      5\u001b[0m corrM\n\u001b[0;32m----> 7\u001b[0m \u001b[38;5;28mprint\u001b[39m(\u001b[43mdata\u001b[49m\u001b[38;5;241;43m.\u001b[39;49m\u001b[43mcorrM\u001b[49m)\n\u001b[1;32m      9\u001b[0m dataplot \u001b[38;5;241m=\u001b[39m sb\u001b[38;5;241m.\u001b[39mheatmap(data\u001b[38;5;241m.\u001b[39mcorr(), cmap\u001b[38;5;241m=\u001b[39m\u001b[38;5;124m\"\u001b[39m\u001b[38;5;124mYlGnBu\u001b[39m\u001b[38;5;124m\"\u001b[39m, annot\u001b[38;5;241m=\u001b[39m\u001b[38;5;28;01mTrue\u001b[39;00m)\n\u001b[1;32m     10\u001b[0m        \u001b[38;5;66;03m# plot map\u001b[39;00m\n",
      "\u001b[0;31mAttributeError\u001b[0m: 'NoneType' object has no attribute 'corrM'"
     ]
    }
   ],
   "source": [
    "import seaborn as sb\n",
    "\n",
    "df = pd.DataFrame(data)\n",
    "corrM = df.corr()\n",
    "corrM\n",
    "\n",
    "print(data.corr())\n",
    "      \n",
    "dataplot = sb.heatmap(data.corr(), cmap=\"YlGnBu\", annot=True)\n",
    "       # plot map\n",
    "mp.show()\n",
    "        # display map"
   ]
  },
  {
   "cell_type": "markdown",
   "metadata": {
    "id": "q63jWDNb_iqt"
   },
   "source": [
    "### BONUS: If you were to prepare this data for a data science model - explain the business logic for the following:\n",
    "\n",
    "1. Which model you would select\n",
    "2. Which task you would achieve\n",
    "3. Which features you would select\n",
    "4. Which variables would be independent and dependent"
   ]
  },
  {
   "cell_type": "code",
   "execution_count": null,
   "metadata": {
    "ExecuteTime": {
     "end_time": "2021-04-10T16:12:52.787741Z",
     "start_time": "2021-04-10T16:12:52.785583Z"
    },
    "id": "GJEGPhN9_irF"
   },
   "outputs": [],
   "source": [
    "# Polynomail regression model"
   ]
  },
  {
   "cell_type": "code",
   "execution_count": null,
   "metadata": {},
   "outputs": [],
   "source": [
    "# business model should be able to succesfully predict with reasonable accuracy the estimated price of a used car based on this dataset"
   ]
  },
  {
   "cell_type": "code",
   "execution_count": null,
   "metadata": {},
   "outputs": [],
   "source": [
    "# fuel, year, odometer, drive, price, condition"
   ]
  },
  {
   "cell_type": "code",
   "execution_count": null,
   "metadata": {},
   "outputs": [],
   "source": [
    "# IVs: fuel, year, odometer, drive, condition\n",
    "# DV: predicted price of used car"
   ]
  }
 ],
 "metadata": {
  "colab": {
   "collapsed_sections": [
    "tLrqyzgC_im-",
    "sxvh-O-v_inU",
    "xiHxxhBl_ink",
    "kCj67LiQ_ipH",
    "q63jWDNb_iqt"
   ],
   "name": "Assignment_POI_EDA.ipynb",
   "provenance": []
  },
  "kernelspec": {
   "display_name": "Python 3 (ipykernel)",
   "language": "python",
   "name": "python3"
  },
  "language_info": {
   "codemirror_mode": {
    "name": "ipython",
    "version": 3
   },
   "file_extension": ".py",
   "mimetype": "text/x-python",
   "name": "python",
   "nbconvert_exporter": "python",
   "pygments_lexer": "ipython3",
   "version": "3.10.5"
  },
  "latex_envs": {
   "LaTeX_envs_menu_present": true,
   "autoclose": false,
   "autocomplete": true,
   "bibliofile": "biblio.bib",
   "cite_by": "apalike",
   "current_citInitial": 1,
   "eqLabelWithNumbers": true,
   "eqNumInitial": 1,
   "hotkeys": {
    "equation": "Ctrl-E",
    "itemize": "Ctrl-I"
   },
   "labels_anchors": false,
   "latex_user_defs": false,
   "report_style_numbering": false,
   "user_envs_cfg": false
  },
  "toc": {
   "base_numbering": 1,
   "nav_menu": {},
   "number_sections": true,
   "sideBar": true,
   "skip_h1_title": false,
   "title_cell": "Table of Contents",
   "title_sidebar": "Contents",
   "toc_cell": false,
   "toc_position": {},
   "toc_section_display": true,
   "toc_window_display": false
  }
 },
 "nbformat": 4,
 "nbformat_minor": 1
}
